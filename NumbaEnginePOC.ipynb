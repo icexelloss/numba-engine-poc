{
 "cells": [
  {
   "cell_type": "code",
   "execution_count": 2,
   "metadata": {},
   "outputs": [],
   "source": [
    "import numba\n",
    "import numpy as np\n",
    "import pandas as pd"
   ]
  },
  {
   "cell_type": "markdown",
   "metadata": {},
   "source": [
    "Author: Li Jin \n",
    "Last updated: 20200911\n",
    "\n",
    "# About this Notebook\n",
    "\n",
    "This notebook build a POC implementation of Numba engine for window summarization and compare the result between the current engine (Python) vs Numba engine.\n",
    "\n",
    "# Background\n",
    "In this paper: https://dl.acm.org/doi/pdf/10.14778/2824032.2824045. The author proposes an achitecture for UDF-centric workflows that allows the UDFs to be compiled\n",
    "along with the framework execution loop. The concept that this notebook explores - Numba engine for Bamboo, is an implementation of that architecture.\n",
    "\n",
    "# What is Numba engine for window summarization\n",
    "Currently, when we loop over each window, the for loop is executed in Python interpreter. With Numba engine, the for loop is combined by numba and executed in C.\n",
    "Numba engine is only possible when the window UDF itself can be jitted by Numba to C code.\n",
    "\n",
    "# Why Numba engine\n",
    "Numba is raising as a promising way to compile Python code to something much faster, e.g., C code or CUDA code. Exposing this could open opportunities for developers and researchers to write high performance window functions.\n",
    "\n",
    "# Why care about this now\n",
    "We are currently releasing an API for defining \"numpy\" UDF. This POC will guide us towards defining the data structure for \"numpy\" UDF to be future compatible.\n",
    "\n",
    "# Summary\n",
    "* Numba engine can be done. A single thread numba engine brings about 2-3x perf gain for the example function. With multi-thread, the numba engine bring another 1-2x perf gain.\n",
    "* The perf gain of jitting the window UDF itself is about 3-5x.\n",
    "* Numba has good support for Numpy structured array. It also has similar functionality and pd.DataFrame and has multi datatype support (multiple datatype in a single struct array). I think we should use it as the data structure to represent a \"DataFrame\" in \"numpy\" UDF.\n",
    "* After talking to Jeff Reback, I found pandas is already doing some of these optimizations in the upcoming version: https://github.com/pandas-dev/pandas/pull/35759/files#diff-faca0f5129dcc0262a4435580a299926R151\n",
    "\n",
    "# Question\n",
    "\n",
    "* Why does a jitted function out perform an unjitted function, even the function is mostly using vectorized operation? (See my_udf)\n",
    "* Is it possible to use the CUDA backend for numba and combine both the framework and udf the code to be executed on GPU? If so, what restriction does that that bring?\n",
    "* Does multi column UDF work (UDF that returns multiple columns)\n"
   ]
  },
  {
   "cell_type": "code",
   "execution_count": 3,
   "metadata": {},
   "outputs": [],
   "source": [
    "def my_udf(data):\n",
    "    # Data here is a a numpy structured array\n",
    "    # https://numpy.org/doc/stable/user/basics.rec.html\n",
    "    if data[-1]['v3'] == 'some_str':\n",
    "        return data['v1'].sum() / data['v2'].sum()\n",
    "    else:\n",
    "        return data['v2'].sum() / data['v1'].sum()\n",
    "\n",
    "my_udf_jit = numba.njit(my_udf)"
   ]
  },
  {
   "cell_type": "code",
   "execution_count": 4,
   "metadata": {},
   "outputs": [],
   "source": [
    "# Prepare data for testing\n",
    "\n",
    "num = 1000000\n",
    "window_size = 1000\n",
    "\n",
    "v1 = np.arange(num) + 1\n",
    "v2 = v1.astype('double') + 1000\n",
    "v3 = np.array(['some_str', 'some_other_str'] * int(num / 2))\n",
    "\n",
    "data_dtype = np.dtype(\n",
    "    {\n",
    "        'names':['v1','v2','v3'], \n",
    "        # Limitations - size of the string fields needs to be known\n",
    "        'formats':[np.int, np.double, 'U16']\n",
    "    }\n",
    ")\n",
    "\n",
    "data = np.zeros(1000000, dtype=data_dtype)\n",
    "data['v1'] = v1\n",
    "data['v2'] = v2\n",
    "data['v3'] = v3\n",
    "               \n",
    "upper_indices = np.arange(num) + 1\n",
    "lower_indices = np.clip(upper_indices-window_size, a_min=0, a_max=None)"
   ]
  },
  {
   "cell_type": "code",
   "execution_count": 5,
   "metadata": {},
   "outputs": [
    {
     "data": {
      "text/plain": [
       "array([(      1,    1001., 'some_str'),\n",
       "       (      2,    1002., 'some_other_str'),\n",
       "       (      3,    1003., 'some_str'), ...,\n",
       "       ( 999998, 1000998., 'some_other_str'),\n",
       "       ( 999999, 1000999., 'some_str'),\n",
       "       (1000000, 1001000., 'some_other_str')],\n",
       "      dtype=[('v1', '<i8'), ('v2', '<f8'), ('v3', '<U16')])"
      ]
     },
     "execution_count": 5,
     "metadata": {},
     "output_type": "execute_result"
    }
   ],
   "source": [
    "# This is a structured array\n",
    "data"
   ]
  },
  {
   "cell_type": "code",
   "execution_count": 6,
   "metadata": {},
   "outputs": [],
   "source": [
    "# Simplied implementation of window summarization\n",
    "\n",
    "def _rolling_window_summarize(func, data, lower_indices, upper_indices):\n",
    "    result = np.zeros(len(data))\n",
    "    for i in range(len(lower_indices)):\n",
    "        lower = lower_indices[i]\n",
    "        upper = upper_indices[i]\n",
    "        result[i] = func(data[lower: upper])\n",
    "    return result\n",
    "\n",
    "@numba.njit\n",
    "def _rolling_window_summarize_jit(func, data, lower_indices, upper_indices):\n",
    "    result = np.zeros(len(data))\n",
    "    for i in numba.prange(len(lower_indices)):\n",
    "        lower = lower_indices[i]\n",
    "        upper = upper_indices[i]\n",
    "        result[i] = func(data[lower: upper])\n",
    "    return result\n",
    "\n",
    "@numba.njit(parallel=True)\n",
    "def _rolling_window_summarize_jit_parallel(func, data, lower_indices, upper_indices):\n",
    "    result = np.zeros(len(data))\n",
    "    for i in numba.prange(len(lower_indices)):\n",
    "        lower = lower_indices[i]\n",
    "        upper = upper_indices[i]\n",
    "        result[i] = func(data[lower: upper])\n",
    "    return result\n",
    "\n",
    "def rolling_window_summarize(func, data, lower_indices, upper_indices, engine):\n",
    "    if engine == 'python':\n",
    "        return _rolling_window_summarize(func, data, lower_indices, upper_indices)\n",
    "    elif engine == 'numba':\n",
    "        return _rolling_window_summarize_jit(func, data, lower_indices, upper_indices)\n",
    "    elif engine == 'numba-parallel':\n",
    "        return _rolling_window_summarize_jit_parallel(func, data, lower_indices, upper_indices)\n"
   ]
  },
  {
   "cell_type": "markdown",
   "metadata": {},
   "source": [
    "# Micro Benchmark"
   ]
  },
  {
   "cell_type": "code",
   "execution_count": 7,
   "metadata": {},
   "outputs": [
    {
     "name": "stdout",
     "output_type": "stream",
     "text": [
      "CPU times: user 16.9 s, sys: 20.1 ms, total: 16.9 s\n",
      "Wall time: 17 s\n"
     ]
    },
    {
     "data": {
      "text/plain": [
       "array([9.99000999e-04, 6.67666667e+02, 1.99600798e-03, ...,\n",
       "       1.00100050e+00, 9.99000499e-01, 1.00100050e+00])"
      ]
     },
     "execution_count": 7,
     "metadata": {},
     "output_type": "execute_result"
    }
   ],
   "source": [
    "%%time\n",
    "rolling_window_summarize(my_udf, data, lower_indices, upper_indices, engine='python')"
   ]
  },
  {
   "cell_type": "code",
   "execution_count": 8,
   "metadata": {},
   "outputs": [
    {
     "name": "stdout",
     "output_type": "stream",
     "text": [
      "CPU times: user 4.36 s, sys: 56.3 ms, total: 4.42 s\n",
      "Wall time: 4.44 s\n"
     ]
    },
    {
     "data": {
      "text/plain": [
       "array([9.99000999e-04, 6.67666667e+02, 1.99600798e-03, ...,\n",
       "       1.00100050e+00, 9.99000499e-01, 1.00100050e+00])"
      ]
     },
     "execution_count": 8,
     "metadata": {},
     "output_type": "execute_result"
    }
   ],
   "source": [
    "%%time\n",
    "rolling_window_summarize(my_udf_jit, data, lower_indices, upper_indices, engine='python')"
   ]
  },
  {
   "cell_type": "code",
   "execution_count": 9,
   "metadata": {},
   "outputs": [
    {
     "name": "stdout",
     "output_type": "stream",
     "text": [
      "CPU times: user 2.2 s, sys: 7.39 ms, total: 2.21 s\n",
      "Wall time: 2.22 s\n"
     ]
    },
    {
     "data": {
      "text/plain": [
       "array([9.99000999e-04, 6.67666667e+02, 1.99600798e-03, ...,\n",
       "       1.00100050e+00, 9.99000499e-01, 1.00100050e+00])"
      ]
     },
     "execution_count": 9,
     "metadata": {},
     "output_type": "execute_result"
    }
   ],
   "source": [
    "%%time\n",
    "rolling_window_summarize(my_udf_jit, data, lower_indices, upper_indices, engine='numba')"
   ]
  },
  {
   "cell_type": "code",
   "execution_count": 10,
   "metadata": {},
   "outputs": [
    {
     "name": "stderr",
     "output_type": "stream",
     "text": [
      "/home/tsdist/vats_deployments/modeling.env.interactive-4d8c1c87-b253-4083-a330-ac480ba587f4/ts/modeling/environment/interactive/../../../../ext/public/python/numba/0/50/1/dist/lib/python3.6/numba/np/ufunc/parallel.py:355: NumbaWarning: \u001b[1mThe TBB threading layer requires TBB version 2019.5 or later i.e., TBB_INTERFACE_VERSION >= 11005. Found TBB_INTERFACE_VERSION = 9003. The TBB threading layer is disabled.\u001b[0m\n",
      "  warnings.warn(problem)\n"
     ]
    },
    {
     "name": "stdout",
     "output_type": "stream",
     "text": [
      "CPU times: user 4.8 s, sys: 7.28 ms, total: 4.81 s\n",
      "Wall time: 1.17 s\n"
     ]
    },
    {
     "data": {
      "text/plain": [
       "array([9.99000999e-04, 6.67666667e+02, 1.99600798e-03, ...,\n",
       "       1.00100050e+00, 9.99000499e-01, 1.00100050e+00])"
      ]
     },
     "execution_count": 10,
     "metadata": {},
     "output_type": "execute_result"
    }
   ],
   "source": [
    "%%time\n",
    "rolling_window_summarize(my_udf_jit, data, lower_indices, upper_indices, engine='numba-parallel')"
   ]
  }
 ],
 "metadata": {
  "kernelspec": {
   "display_name": "Python 3",
   "language": "python",
   "name": "python3"
  },
  "language_info": {
   "codemirror_mode": {
    "name": "ipython",
    "version": 3
   },
   "file_extension": ".py",
   "mimetype": "text/x-python",
   "name": "python",
   "nbconvert_exporter": "python",
   "pygments_lexer": "ipython3",
   "version": "3.6.10"
  },
  "publish_permission": {
   "read": {},
   "write": {}
  },
  "publish_uri": "tsuri/application/ts/beakerx/ljin/NumbaEnginePOCExternal.ipynb",
  "toc": {
   "base_numbering": 1,
   "nav_menu": {},
   "number_sections": false,
   "sideBar": false,
   "skip_h1_title": false,
   "title_cell": "Table of Contents",
   "title_sidebar": "Contents",
   "toc_cell": false,
   "toc_position": {},
   "toc_section_display": false,
   "toc_window_display": false
  },
  "widgets": {
   "application/vnd.jupyter.widget-state+json": {
    "state": {},
    "version_major": 2,
    "version_minor": 0
   }
  }
 },
 "nbformat": 4,
 "nbformat_minor": 2
}
