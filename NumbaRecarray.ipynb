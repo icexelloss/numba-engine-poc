{
 "cells": [
  {
   "cell_type": "code",
   "execution_count": 16,
   "id": "a7fd0a31",
   "metadata": {},
   "outputs": [],
   "source": [
    "import pandas as pd\n",
    "import numba\n",
    "import numpy as np"
   ]
  },
  {
   "cell_type": "code",
   "execution_count": 17,
   "id": "dfa52811",
   "metadata": {},
   "outputs": [],
   "source": [
    "arr = pd.DataFrame({'v': [1, 2, 3], 'w': [4, 5, 6]}).to_records()\n",
    "dtype = np.dtype([('a', 'f8'), ('b', 'f4'), ('c', 'f8')])"
   ]
  },
  {
   "cell_type": "code",
   "execution_count": 18,
   "id": "5ec29e92",
   "metadata": {},
   "outputs": [
    {
     "data": {
      "text/plain": [
       "array([(1., 4., 5.), (2., 5., 7.), (3., 6., 9.)],\n",
       "      dtype=[('a', '<f8'), ('b', '<f4'), ('c', '<f8')])"
      ]
     },
     "execution_count": 18,
     "metadata": {},
     "output_type": "execute_result"
    }
   ],
   "source": [
    "import pandas as pd\n",
    "import numba\n",
    "from numba import literal_unroll\n",
    "import numpy as np\n",
    "\n",
    "@numba.njit\n",
    "def kernel(arr):\n",
    "    return np.nanmean(arr['v']), np.nanmean(arr['w']), np.nanmean(arr['v'] + arr['w'])\n",
    "\n",
    "dtype = np.dtype([('a', 'f8'), ('b', 'f4'), ('c', 'f8')])\n",
    "fields = tuple(dtype.fields)\n",
    "\n",
    "lower_index = np.array([0, 1, 2])\n",
    "upper_index = np.array([1, 2, 3])\n",
    "\n",
    "@numba.njit\n",
    "def _loop(kernel, arr, lower_index, upper_index, dtype):\n",
    "    results = np.zeros(len(arr), dtype=dtype)\n",
    "    for i in range(len(arr)):\n",
    "        result = kernel(arr[lower_index[i]: upper_index[i]])\n",
    "        idx = 0\n",
    "        for key in literal_unroll(fields):\n",
    "            results[i][key] = result[idx]\n",
    "            idx += 1\n",
    "    return results\n",
    "\n",
    "\n",
    "def loop(kernel, arr, lower_index, upper_index, dtype):\n",
    "    fields = dtype.fields\n",
    "    return _loop(kernel, arr, lower_index, upper_index, dtype)\n",
    "\n",
    "\n",
    "loop(kernel, arr, lower_index, upper_index, dtype)"
   ]
  }
 ],
 "metadata": {
  "kernelspec": {
   "display_name": "Python 3",
   "language": "python",
   "name": "python3"
  },
  "language_info": {
   "codemirror_mode": {
    "name": "ipython",
    "version": 3
   },
   "file_extension": ".py",
   "mimetype": "text/x-python",
   "name": "python",
   "nbconvert_exporter": "python",
   "pygments_lexer": "ipython3",
   "version": "3.8.0"
  }
 },
 "nbformat": 4,
 "nbformat_minor": 5
}
